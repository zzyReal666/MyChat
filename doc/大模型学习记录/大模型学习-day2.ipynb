{
 "cells": [
  {
   "cell_type": "markdown",
   "id": "0f66f387",
   "metadata": {},
   "source": [
    "# 大模型学习day2\n"
   ]
  },
  {
   "cell_type": "markdown",
   "id": "2ad31245",
   "metadata": {},
   "source": [
    "## 一、LLM 和 ChatModel"
   ]
  },
  {
   "cell_type": "code",
   "execution_count": null,
   "id": "b181b431",
   "metadata": {},
   "outputs": [],
   "source": [
    "# LLM 调用\n",
    "from langchain.llms import OpenAI\n",
    "import os\n",
    "\n",
    "api_key=os.getenv(\"DASHSCOPE_API_KEY\")\n",
    "base_url=\"https://dashscope.aliyuncs.com/compatible-mode/v1\"\n",
    "\n",
    "llm = OpenAI(\n",
    "    model=\"qwen-plus\",\n",
    "    temperature=0,\n",
    "    api_key=api_key, \n",
    "    base_url=base_url\n",
    ")\n",
    "\n",
    "llm.invoke(\"你好\")"
   ]
  },
  {
   "cell_type": "code",
   "execution_count": null,
   "id": "5793afb6",
   "metadata": {},
   "outputs": [
    {
     "name": "stderr",
     "output_type": "stream",
     "text": [
      "/Users/zhangzhongyuan/PycharmProjects/LLM-learn/.venv/lib/python3.9/site-packages/urllib3/__init__.py:35: NotOpenSSLWarning: urllib3 v2 only supports OpenSSL 1.1.1+, currently the 'ssl' module is compiled with 'LibreSSL 2.8.3'. See: https://github.com/urllib3/urllib3/issues/3020\n",
      "  warnings.warn(\n"
     ]
    },
    {
     "name": "stdout",
     "output_type": "stream",
     "text": [
      "content='我是通义千问，阿里巴巴集团旗下的通义实验室自主研发的超大规模语言模型。我可以帮助你回答问题、创作文字，比如写故事、写公文、写邮件、写剧本、逻辑推理、编程等等，还能表达观点，玩游戏等。如果你有任何问题或需要帮助，欢迎随时告诉我！' response_metadata={'token_usage': {'completion_tokens': 66, 'prompt_tokens': 14, 'total_tokens': 80, 'completion_tokens_details': None, 'prompt_tokens_details': {'audio_tokens': None, 'cached_tokens': 0}}, 'model_name': 'qwen-plus', 'system_fingerprint': None, 'finish_reason': 'stop', 'logprobs': None} id='run-fb521b41-cbb3-4be4-8ee0-3db843ecd1c7-0'\n"
     ]
    }
   ],
   "source": [
    "# ChatModel 调用\n",
    "from langchain_openai import ChatOpenAI\n",
    "import os\n",
    "\n",
    "api_key=os.getenv(\"DASHSCOPE_API_KEY\")\n",
    "base_url=\"https://dashscope.aliyuncs.com/compatible-mode/v1\"\n",
    "\n",
    "llm = ChatOpenAI(\n",
    "    model=\"qwen-plus\",\n",
    "    temperature=0,\n",
    "    api_key=api_key, \n",
    "    base_url=base_url)\n",
    "\n",
    "print(llm.invoke(\"你是谁\"))\n",
    "\n"
   ]
  },
  {
   "cell_type": "markdown",
   "id": "c00bef3b",
   "metadata": {},
   "source": [
    "## 二、流式输出"
   ]
  },
  {
   "cell_type": "markdown",
   "id": "7e105cb5",
   "metadata": {},
   "source": [
    "## 三、RGA+langchain的小示例"
   ]
  },
  {
   "cell_type": "code",
   "execution_count": null,
   "id": "a9a6786a",
   "metadata": {},
   "outputs": [],
   "source": [
    "from langchain_community.document_loaders import WebBaseLoader\n",
    "from dotenv import load_dotenv\n",
    "import os\n",
    "\n",
    "load_dotenv()\n",
    "import bs4\n",
    "\n",
    "loader = WebBaseLoader(web_paths=[\"https://www.gov.cn/xinwen/2020-06/01/content_5516649.htm\"],\n",
    "    bs_kwargs=dict(parse_only=bs4.SoupStrainer(id = \"UCAP-CONTENT\"))\n",
    ")\n",
    "docs = loader.load()\n",
    "\n",
    "print(docs)\n",
    "\n",
    "from langchain_openai import OpenAIEmbeddings\n",
    "embeddings = OpenAIEmbeddings()\n",
    "\n",
    "\n"
   ]
  },
  {
   "cell_type": "markdown",
   "id": "f6173e97",
   "metadata": {},
   "source": []
  }
 ],
 "metadata": {
  "kernelspec": {
   "display_name": ".venv",
   "language": "python",
   "name": "python3"
  },
  "language_info": {
   "codemirror_mode": {
    "name": "ipython",
    "version": 3
   },
   "file_extension": ".py",
   "mimetype": "text/x-python",
   "name": "python",
   "nbconvert_exporter": "python",
   "pygments_lexer": "ipython3",
   "version": "3.9.6"
  }
 },
 "nbformat": 4,
 "nbformat_minor": 5
}
